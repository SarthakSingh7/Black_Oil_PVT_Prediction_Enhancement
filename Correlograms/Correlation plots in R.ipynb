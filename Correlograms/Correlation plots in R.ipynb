{
 "cells": [
  {
   "cell_type": "code",
   "execution_count": 27,
   "id": "b09a9ca4",
   "metadata": {},
   "outputs": [],
   "source": [
    "# https://community.rstudio.com/t/meaning-of-common-message-when-install-a-package-there-are-binary-versions-available-but-the-source-versions-are-later/2431/7"
   ]
  },
  {
   "cell_type": "code",
   "execution_count": 21,
   "id": "b83a4614",
   "metadata": {
    "scrolled": true
   },
   "outputs": [
    {
     "name": "stdout",
     "output_type": "stream",
     "text": [
      "\n",
      "  There is a binary version available but the source version is later:\n",
      "       binary source needs_compilation\n",
      "mnormt  2.0.2  2.1.1              TRUE\n",
      "\n",
      "  Binaries will be installed\n",
      "package 'mnormt' successfully unpacked and MD5 sums checked\n",
      "\n",
      "The downloaded binary packages are in\n",
      "\tC:\\Users\\sarth\\AppData\\Local\\Temp\\RtmpMNKk2R\\downloaded_packages\n"
     ]
    }
   ],
   "source": [
    "#install.packages(\"mnormt\")"
   ]
  },
  {
   "cell_type": "code",
   "execution_count": 28,
   "id": "873e1674",
   "metadata": {},
   "outputs": [
    {
     "name": "stderr",
     "output_type": "stream",
     "text": [
      "Warning message in install.packages(\"psych\", type = \"source\"):\n",
      "\"installation of package 'psych' had non-zero exit status\""
     ]
    }
   ],
   "source": [
    "# On Windows, to install a package from source you will need to explicitly run\n",
    "# install.packages(\"packageName\", type = \"source\") .\n",
    "install.packages('psych')"
   ]
  },
  {
   "cell_type": "code",
   "execution_count": 7,
   "id": "7686e34b",
   "metadata": {},
   "outputs": [],
   "source": [
    "df = read_excel(\"C:/Users/sarth/OneDrive/Documents/My Projects/Project2_sem7/ML_model_pvt_training_data/Training_data_Bo_with_P.xlsx\")"
   ]
  },
  {
   "cell_type": "code",
   "execution_count": 34,
   "id": "949e07dd",
   "metadata": {},
   "outputs": [
    {
     "data": {
      "text/html": [
       "<dl>\n",
       "\t<dt>$platform</dt>\n",
       "\t\t<dd>'x86_64-w64-mingw32'</dd>\n",
       "\t<dt>$arch</dt>\n",
       "\t\t<dd>'x86_64'</dd>\n",
       "\t<dt>$os</dt>\n",
       "\t\t<dd>'mingw32'</dd>\n",
       "\t<dt>$system</dt>\n",
       "\t\t<dd>'x86_64, mingw32'</dd>\n",
       "\t<dt>$status</dt>\n",
       "\t\t<dd>''</dd>\n",
       "\t<dt>$major</dt>\n",
       "\t\t<dd>'3'</dd>\n",
       "\t<dt>$minor</dt>\n",
       "\t\t<dd>'6.1'</dd>\n",
       "\t<dt>$year</dt>\n",
       "\t\t<dd>'2019'</dd>\n",
       "\t<dt>$month</dt>\n",
       "\t\t<dd>'07'</dd>\n",
       "\t<dt>$day</dt>\n",
       "\t\t<dd>'05'</dd>\n",
       "\t<dt>$`svn rev`</dt>\n",
       "\t\t<dd>'76782'</dd>\n",
       "\t<dt>$language</dt>\n",
       "\t\t<dd>'R'</dd>\n",
       "\t<dt>$version.string</dt>\n",
       "\t\t<dd>'R version 3.6.1 (2019-07-05)'</dd>\n",
       "\t<dt>$nickname</dt>\n",
       "\t\t<dd>'Action of the Toes'</dd>\n",
       "</dl>\n"
      ],
      "text/latex": [
       "\\begin{description}\n",
       "\\item[\\$platform] 'x86\\_64-w64-mingw32'\n",
       "\\item[\\$arch] 'x86\\_64'\n",
       "\\item[\\$os] 'mingw32'\n",
       "\\item[\\$system] 'x86\\_64, mingw32'\n",
       "\\item[\\$status] ''\n",
       "\\item[\\$major] '3'\n",
       "\\item[\\$minor] '6.1'\n",
       "\\item[\\$year] '2019'\n",
       "\\item[\\$month] '07'\n",
       "\\item[\\$day] '05'\n",
       "\\item[\\$`svn rev`] '76782'\n",
       "\\item[\\$language] 'R'\n",
       "\\item[\\$version.string] 'R version 3.6.1 (2019-07-05)'\n",
       "\\item[\\$nickname] 'Action of the Toes'\n",
       "\\end{description}\n"
      ],
      "text/markdown": [
       "$platform\n",
       ":   'x86_64-w64-mingw32'\n",
       "$arch\n",
       ":   'x86_64'\n",
       "$os\n",
       ":   'mingw32'\n",
       "$system\n",
       ":   'x86_64, mingw32'\n",
       "$status\n",
       ":   ''\n",
       "$major\n",
       ":   '3'\n",
       "$minor\n",
       ":   '6.1'\n",
       "$year\n",
       ":   '2019'\n",
       "$month\n",
       ":   '07'\n",
       "$day\n",
       ":   '05'\n",
       "$`svn rev`\n",
       ":   '76782'\n",
       "$language\n",
       ":   'R'\n",
       "$version.string\n",
       ":   'R version 3.6.1 (2019-07-05)'\n",
       "$nickname\n",
       ":   'Action of the Toes'\n",
       "\n",
       "\n"
      ],
      "text/plain": [
       "$platform\n",
       "[1] \"x86_64-w64-mingw32\"\n",
       "\n",
       "$arch\n",
       "[1] \"x86_64\"\n",
       "\n",
       "$os\n",
       "[1] \"mingw32\"\n",
       "\n",
       "$system\n",
       "[1] \"x86_64, mingw32\"\n",
       "\n",
       "$status\n",
       "[1] \"\"\n",
       "\n",
       "$major\n",
       "[1] \"3\"\n",
       "\n",
       "$minor\n",
       "[1] \"6.1\"\n",
       "\n",
       "$year\n",
       "[1] \"2019\"\n",
       "\n",
       "$month\n",
       "[1] \"07\"\n",
       "\n",
       "$day\n",
       "[1] \"05\"\n",
       "\n",
       "$`svn rev`\n",
       "[1] \"76782\"\n",
       "\n",
       "$language\n",
       "[1] \"R\"\n",
       "\n",
       "$version.string\n",
       "[1] \"R version 3.6.1 (2019-07-05)\"\n",
       "\n",
       "$nickname\n",
       "[1] \"Action of the Toes\"\n"
      ]
     },
     "metadata": {},
     "output_type": "display_data"
    }
   ],
   "source": [
    "R.Version()"
   ]
  },
  {
   "cell_type": "code",
   "execution_count": null,
   "id": "a8097607",
   "metadata": {},
   "outputs": [],
   "source": []
  }
 ],
 "metadata": {
  "kernelspec": {
   "display_name": "R",
   "language": "R",
   "name": "ir"
  },
  "language_info": {
   "codemirror_mode": "r",
   "file_extension": ".r",
   "mimetype": "text/x-r-source",
   "name": "R",
   "pygments_lexer": "r",
   "version": "3.6.1"
  }
 },
 "nbformat": 4,
 "nbformat_minor": 5
}
